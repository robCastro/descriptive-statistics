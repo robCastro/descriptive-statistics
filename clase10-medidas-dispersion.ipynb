{
 "cells": [
  {
   "cell_type": "code",
   "execution_count": 1,
   "id": "75bcae28",
   "metadata": {},
   "outputs": [],
   "source": [
    "import pandas as pd\n",
    "import matplotlib.pyplot as plt\n",
    "import seaborn as sns"
   ]
  },
  {
   "cell_type": "code",
   "execution_count": 2,
   "id": "5ac8b5b7",
   "metadata": {},
   "outputs": [
    {
     "data": {
      "text/html": [
       "<div>\n",
       "<style scoped>\n",
       "    .dataframe tbody tr th:only-of-type {\n",
       "        vertical-align: middle;\n",
       "    }\n",
       "\n",
       "    .dataframe tbody tr th {\n",
       "        vertical-align: top;\n",
       "    }\n",
       "\n",
       "    .dataframe thead th {\n",
       "        text-align: right;\n",
       "    }\n",
       "</style>\n",
       "<table border=\"1\" class=\"dataframe\">\n",
       "  <thead>\n",
       "    <tr style=\"text-align: right;\">\n",
       "      <th></th>\n",
       "      <th>manufacturer_name</th>\n",
       "      <th>model_name</th>\n",
       "      <th>transmission</th>\n",
       "      <th>color</th>\n",
       "      <th>odometer_value</th>\n",
       "      <th>year_produced</th>\n",
       "      <th>engine_fuel</th>\n",
       "      <th>engine_has_gas</th>\n",
       "      <th>engine_type</th>\n",
       "      <th>engine_capacity</th>\n",
       "      <th>...</th>\n",
       "      <th>feature_1</th>\n",
       "      <th>feature_2</th>\n",
       "      <th>feature_3</th>\n",
       "      <th>feature_4</th>\n",
       "      <th>feature_5</th>\n",
       "      <th>feature_6</th>\n",
       "      <th>feature_7</th>\n",
       "      <th>feature_8</th>\n",
       "      <th>feature_9</th>\n",
       "      <th>duration_listed</th>\n",
       "    </tr>\n",
       "  </thead>\n",
       "  <tbody>\n",
       "    <tr>\n",
       "      <th>0</th>\n",
       "      <td>Subaru</td>\n",
       "      <td>Outback</td>\n",
       "      <td>automatic</td>\n",
       "      <td>silver</td>\n",
       "      <td>190000</td>\n",
       "      <td>2010</td>\n",
       "      <td>gasoline</td>\n",
       "      <td>False</td>\n",
       "      <td>gasoline</td>\n",
       "      <td>2.5</td>\n",
       "      <td>...</td>\n",
       "      <td>True</td>\n",
       "      <td>True</td>\n",
       "      <td>True</td>\n",
       "      <td>False</td>\n",
       "      <td>True</td>\n",
       "      <td>False</td>\n",
       "      <td>True</td>\n",
       "      <td>True</td>\n",
       "      <td>True</td>\n",
       "      <td>16</td>\n",
       "    </tr>\n",
       "    <tr>\n",
       "      <th>1</th>\n",
       "      <td>Subaru</td>\n",
       "      <td>Outback</td>\n",
       "      <td>automatic</td>\n",
       "      <td>blue</td>\n",
       "      <td>290000</td>\n",
       "      <td>2002</td>\n",
       "      <td>gasoline</td>\n",
       "      <td>False</td>\n",
       "      <td>gasoline</td>\n",
       "      <td>3.0</td>\n",
       "      <td>...</td>\n",
       "      <td>True</td>\n",
       "      <td>False</td>\n",
       "      <td>False</td>\n",
       "      <td>True</td>\n",
       "      <td>True</td>\n",
       "      <td>False</td>\n",
       "      <td>False</td>\n",
       "      <td>False</td>\n",
       "      <td>True</td>\n",
       "      <td>83</td>\n",
       "    </tr>\n",
       "    <tr>\n",
       "      <th>2</th>\n",
       "      <td>Subaru</td>\n",
       "      <td>Forester</td>\n",
       "      <td>automatic</td>\n",
       "      <td>red</td>\n",
       "      <td>402000</td>\n",
       "      <td>2001</td>\n",
       "      <td>gasoline</td>\n",
       "      <td>False</td>\n",
       "      <td>gasoline</td>\n",
       "      <td>2.5</td>\n",
       "      <td>...</td>\n",
       "      <td>True</td>\n",
       "      <td>False</td>\n",
       "      <td>False</td>\n",
       "      <td>False</td>\n",
       "      <td>False</td>\n",
       "      <td>False</td>\n",
       "      <td>False</td>\n",
       "      <td>True</td>\n",
       "      <td>True</td>\n",
       "      <td>151</td>\n",
       "    </tr>\n",
       "    <tr>\n",
       "      <th>3</th>\n",
       "      <td>Subaru</td>\n",
       "      <td>Impreza</td>\n",
       "      <td>mechanical</td>\n",
       "      <td>blue</td>\n",
       "      <td>10000</td>\n",
       "      <td>1999</td>\n",
       "      <td>gasoline</td>\n",
       "      <td>False</td>\n",
       "      <td>gasoline</td>\n",
       "      <td>3.0</td>\n",
       "      <td>...</td>\n",
       "      <td>False</td>\n",
       "      <td>False</td>\n",
       "      <td>False</td>\n",
       "      <td>False</td>\n",
       "      <td>False</td>\n",
       "      <td>False</td>\n",
       "      <td>False</td>\n",
       "      <td>False</td>\n",
       "      <td>False</td>\n",
       "      <td>86</td>\n",
       "    </tr>\n",
       "    <tr>\n",
       "      <th>4</th>\n",
       "      <td>Subaru</td>\n",
       "      <td>Legacy</td>\n",
       "      <td>automatic</td>\n",
       "      <td>black</td>\n",
       "      <td>280000</td>\n",
       "      <td>2001</td>\n",
       "      <td>gasoline</td>\n",
       "      <td>False</td>\n",
       "      <td>gasoline</td>\n",
       "      <td>2.5</td>\n",
       "      <td>...</td>\n",
       "      <td>True</td>\n",
       "      <td>False</td>\n",
       "      <td>True</td>\n",
       "      <td>True</td>\n",
       "      <td>False</td>\n",
       "      <td>False</td>\n",
       "      <td>False</td>\n",
       "      <td>False</td>\n",
       "      <td>True</td>\n",
       "      <td>7</td>\n",
       "    </tr>\n",
       "    <tr>\n",
       "      <th>...</th>\n",
       "      <td>...</td>\n",
       "      <td>...</td>\n",
       "      <td>...</td>\n",
       "      <td>...</td>\n",
       "      <td>...</td>\n",
       "      <td>...</td>\n",
       "      <td>...</td>\n",
       "      <td>...</td>\n",
       "      <td>...</td>\n",
       "      <td>...</td>\n",
       "      <td>...</td>\n",
       "      <td>...</td>\n",
       "      <td>...</td>\n",
       "      <td>...</td>\n",
       "      <td>...</td>\n",
       "      <td>...</td>\n",
       "      <td>...</td>\n",
       "      <td>...</td>\n",
       "      <td>...</td>\n",
       "      <td>...</td>\n",
       "      <td>...</td>\n",
       "    </tr>\n",
       "    <tr>\n",
       "      <th>38526</th>\n",
       "      <td>Chrysler</td>\n",
       "      <td>300</td>\n",
       "      <td>automatic</td>\n",
       "      <td>silver</td>\n",
       "      <td>290000</td>\n",
       "      <td>2000</td>\n",
       "      <td>gasoline</td>\n",
       "      <td>False</td>\n",
       "      <td>gasoline</td>\n",
       "      <td>3.5</td>\n",
       "      <td>...</td>\n",
       "      <td>True</td>\n",
       "      <td>False</td>\n",
       "      <td>False</td>\n",
       "      <td>True</td>\n",
       "      <td>True</td>\n",
       "      <td>False</td>\n",
       "      <td>False</td>\n",
       "      <td>True</td>\n",
       "      <td>True</td>\n",
       "      <td>301</td>\n",
       "    </tr>\n",
       "    <tr>\n",
       "      <th>38527</th>\n",
       "      <td>Chrysler</td>\n",
       "      <td>PT Cruiser</td>\n",
       "      <td>mechanical</td>\n",
       "      <td>blue</td>\n",
       "      <td>321000</td>\n",
       "      <td>2004</td>\n",
       "      <td>diesel</td>\n",
       "      <td>False</td>\n",
       "      <td>diesel</td>\n",
       "      <td>2.2</td>\n",
       "      <td>...</td>\n",
       "      <td>True</td>\n",
       "      <td>False</td>\n",
       "      <td>False</td>\n",
       "      <td>True</td>\n",
       "      <td>True</td>\n",
       "      <td>False</td>\n",
       "      <td>False</td>\n",
       "      <td>True</td>\n",
       "      <td>True</td>\n",
       "      <td>317</td>\n",
       "    </tr>\n",
       "    <tr>\n",
       "      <th>38528</th>\n",
       "      <td>Chrysler</td>\n",
       "      <td>300</td>\n",
       "      <td>automatic</td>\n",
       "      <td>blue</td>\n",
       "      <td>777957</td>\n",
       "      <td>2000</td>\n",
       "      <td>gasoline</td>\n",
       "      <td>False</td>\n",
       "      <td>gasoline</td>\n",
       "      <td>3.5</td>\n",
       "      <td>...</td>\n",
       "      <td>True</td>\n",
       "      <td>False</td>\n",
       "      <td>False</td>\n",
       "      <td>True</td>\n",
       "      <td>True</td>\n",
       "      <td>False</td>\n",
       "      <td>False</td>\n",
       "      <td>True</td>\n",
       "      <td>True</td>\n",
       "      <td>369</td>\n",
       "    </tr>\n",
       "    <tr>\n",
       "      <th>38529</th>\n",
       "      <td>Chrysler</td>\n",
       "      <td>PT Cruiser</td>\n",
       "      <td>mechanical</td>\n",
       "      <td>black</td>\n",
       "      <td>20000</td>\n",
       "      <td>2001</td>\n",
       "      <td>gasoline</td>\n",
       "      <td>False</td>\n",
       "      <td>gasoline</td>\n",
       "      <td>2.0</td>\n",
       "      <td>...</td>\n",
       "      <td>True</td>\n",
       "      <td>False</td>\n",
       "      <td>False</td>\n",
       "      <td>False</td>\n",
       "      <td>False</td>\n",
       "      <td>False</td>\n",
       "      <td>False</td>\n",
       "      <td>False</td>\n",
       "      <td>True</td>\n",
       "      <td>490</td>\n",
       "    </tr>\n",
       "    <tr>\n",
       "      <th>38530</th>\n",
       "      <td>Chrysler</td>\n",
       "      <td>Voyager</td>\n",
       "      <td>automatic</td>\n",
       "      <td>silver</td>\n",
       "      <td>297729</td>\n",
       "      <td>2000</td>\n",
       "      <td>gasoline</td>\n",
       "      <td>False</td>\n",
       "      <td>gasoline</td>\n",
       "      <td>2.4</td>\n",
       "      <td>...</td>\n",
       "      <td>False</td>\n",
       "      <td>False</td>\n",
       "      <td>False</td>\n",
       "      <td>False</td>\n",
       "      <td>False</td>\n",
       "      <td>False</td>\n",
       "      <td>False</td>\n",
       "      <td>False</td>\n",
       "      <td>True</td>\n",
       "      <td>632</td>\n",
       "    </tr>\n",
       "  </tbody>\n",
       "</table>\n",
       "<p>38531 rows × 30 columns</p>\n",
       "</div>"
      ],
      "text/plain": [
       "      manufacturer_name  model_name transmission   color  odometer_value  \\\n",
       "0                Subaru     Outback    automatic  silver          190000   \n",
       "1                Subaru     Outback    automatic    blue          290000   \n",
       "2                Subaru    Forester    automatic     red          402000   \n",
       "3                Subaru     Impreza   mechanical    blue           10000   \n",
       "4                Subaru      Legacy    automatic   black          280000   \n",
       "...                 ...         ...          ...     ...             ...   \n",
       "38526          Chrysler         300    automatic  silver          290000   \n",
       "38527          Chrysler  PT Cruiser   mechanical    blue          321000   \n",
       "38528          Chrysler         300    automatic    blue          777957   \n",
       "38529          Chrysler  PT Cruiser   mechanical   black           20000   \n",
       "38530          Chrysler     Voyager    automatic  silver          297729   \n",
       "\n",
       "       year_produced engine_fuel  engine_has_gas engine_type  engine_capacity  \\\n",
       "0               2010    gasoline           False    gasoline              2.5   \n",
       "1               2002    gasoline           False    gasoline              3.0   \n",
       "2               2001    gasoline           False    gasoline              2.5   \n",
       "3               1999    gasoline           False    gasoline              3.0   \n",
       "4               2001    gasoline           False    gasoline              2.5   \n",
       "...              ...         ...             ...         ...              ...   \n",
       "38526           2000    gasoline           False    gasoline              3.5   \n",
       "38527           2004      diesel           False      diesel              2.2   \n",
       "38528           2000    gasoline           False    gasoline              3.5   \n",
       "38529           2001    gasoline           False    gasoline              2.0   \n",
       "38530           2000    gasoline           False    gasoline              2.4   \n",
       "\n",
       "       ... feature_1  feature_2 feature_3 feature_4  feature_5  feature_6  \\\n",
       "0      ...      True       True      True     False       True      False   \n",
       "1      ...      True      False     False      True       True      False   \n",
       "2      ...      True      False     False     False      False      False   \n",
       "3      ...     False      False     False     False      False      False   \n",
       "4      ...      True      False      True      True      False      False   \n",
       "...    ...       ...        ...       ...       ...        ...        ...   \n",
       "38526  ...      True      False     False      True       True      False   \n",
       "38527  ...      True      False     False      True       True      False   \n",
       "38528  ...      True      False     False      True       True      False   \n",
       "38529  ...      True      False     False     False      False      False   \n",
       "38530  ...     False      False     False     False      False      False   \n",
       "\n",
       "      feature_7  feature_8  feature_9  duration_listed  \n",
       "0          True       True       True               16  \n",
       "1         False      False       True               83  \n",
       "2         False       True       True              151  \n",
       "3         False      False      False               86  \n",
       "4         False      False       True                7  \n",
       "...         ...        ...        ...              ...  \n",
       "38526     False       True       True              301  \n",
       "38527     False       True       True              317  \n",
       "38528     False       True       True              369  \n",
       "38529     False      False       True              490  \n",
       "38530     False      False       True              632  \n",
       "\n",
       "[38531 rows x 30 columns]"
      ]
     },
     "execution_count": 2,
     "metadata": {},
     "output_type": "execute_result"
    }
   ],
   "source": [
    "df = pd.read_csv('cars.csv')\n",
    "df"
   ]
  },
  {
   "cell_type": "code",
   "execution_count": 3,
   "id": "01ac72df",
   "metadata": {},
   "outputs": [
    {
     "data": {
      "text/plain": [
       "6428.1520182029035"
      ]
     },
     "execution_count": 3,
     "metadata": {},
     "output_type": "execute_result"
    }
   ],
   "source": [
    "df['price_usd'].std()"
   ]
  },
  {
   "cell_type": "code",
   "execution_count": 4,
   "id": "3bdbe4fb",
   "metadata": {},
   "outputs": [
    {
     "data": {
      "text/plain": [
       "1.0"
      ]
     },
     "execution_count": 4,
     "metadata": {},
     "output_type": "execute_result"
    }
   ],
   "source": [
    "min_price = df['price_usd'].min()\n",
    "min_price"
   ]
  },
  {
   "cell_type": "code",
   "execution_count": 5,
   "id": "4b6d70c6",
   "metadata": {},
   "outputs": [
    {
     "data": {
      "text/plain": [
       "50000.0"
      ]
     },
     "execution_count": 5,
     "metadata": {},
     "output_type": "execute_result"
    }
   ],
   "source": [
    "max_price = df['price_usd'].max()\n",
    "max_price"
   ]
  },
  {
   "cell_type": "code",
   "execution_count": 6,
   "id": "f7ce4edf",
   "metadata": {},
   "outputs": [
    {
     "data": {
      "text/plain": [
       "49999.0"
      ]
     },
     "execution_count": 6,
     "metadata": {},
     "output_type": "execute_result"
    }
   ],
   "source": [
    "rango = max_price - min_price\n",
    "rango"
   ]
  },
  {
   "cell_type": "code",
   "execution_count": 7,
   "id": "1f540c2e",
   "metadata": {},
   "outputs": [
    {
     "data": {
      "text/plain": [
       "4800.0"
      ]
     },
     "execution_count": 7,
     "metadata": {},
     "output_type": "execute_result"
    }
   ],
   "source": [
    "median = df['price_usd'].median()\n",
    "q2 = median\n",
    "median"
   ]
  },
  {
   "cell_type": "code",
   "execution_count": 8,
   "id": "2048b5da",
   "metadata": {},
   "outputs": [
    {
     "data": {
      "text/plain": [
       "2100.0"
      ]
     },
     "execution_count": 8,
     "metadata": {},
     "output_type": "execute_result"
    }
   ],
   "source": [
    "q1 = df['price_usd'].quantile(q=0.25)\n",
    "q1"
   ]
  },
  {
   "cell_type": "code",
   "execution_count": 9,
   "id": "a773160e",
   "metadata": {},
   "outputs": [
    {
     "data": {
      "text/plain": [
       "8990.0"
      ]
     },
     "execution_count": 9,
     "metadata": {},
     "output_type": "execute_result"
    }
   ],
   "source": [
    "q3 = df['price_usd'].quantile(q=0.75)\n",
    "q3"
   ]
  },
  {
   "cell_type": "code",
   "execution_count": 10,
   "id": "0caacdc9",
   "metadata": {},
   "outputs": [
    {
     "data": {
      "text/plain": [
       "6890.0"
      ]
     },
     "execution_count": 10,
     "metadata": {},
     "output_type": "execute_result"
    }
   ],
   "source": [
    "iqr = q3 - q1\n",
    "iqr"
   ]
  },
  {
   "cell_type": "code",
   "execution_count": 11,
   "id": "00b1011d",
   "metadata": {},
   "outputs": [
    {
     "data": {
      "text/plain": [
       "-8235.0"
      ]
     },
     "execution_count": 11,
     "metadata": {},
     "output_type": "execute_result"
    }
   ],
   "source": [
    "min_limit = q1 - 1.5*iqr\n",
    "min_limit"
   ]
  },
  {
   "cell_type": "markdown",
   "id": "379e7841",
   "metadata": {},
   "source": [
    "Claramente no tiene sentido, es porque estaba intentando aplicar a una distribución sesgada"
   ]
  },
  {
   "cell_type": "code",
   "execution_count": 12,
   "id": "84bef909",
   "metadata": {},
   "outputs": [
    {
     "data": {
      "text/plain": [
       "<AxesSubplot:xlabel='price_usd', ylabel='Count'>"
      ]
     },
     "execution_count": 12,
     "metadata": {},
     "output_type": "execute_result"
    },
    {
     "data": {
      "image/png": "[encoded data removed]",
      "text/plain": [
       "<Figure size 432x288 with 1 Axes>"
      ]
     },
     "metadata": {
      "needs_background": "light"
     },
     "output_type": "display_data"
    }
   ],
   "source": [
    "sns.histplot(df['price_usd'])"
   ]
  },
  {
   "cell_type": "code",
   "execution_count": 15,
   "id": "d84ee9e3",
   "metadata": {},
   "outputs": [
    {
     "data": {
      "text/plain": [
       "<AxesSubplot:xlabel='price_usd'>"
      ]
     },
     "execution_count": 15,
     "metadata": {},
     "output_type": "execute_result"
    },
    {
     "data": {
      "image/png": "[encoded data removed]",
      "text/plain": [
       "<Figure size 432x288 with 1 Axes>"
      ]
     },
     "metadata": {
      "needs_background": "light"
     },
     "output_type": "display_data"
    }
   ],
   "source": [
    "sns.boxplot(x=df['price_usd'])"
   ]
  },
  {
   "cell_type": "code",
   "execution_count": 16,
   "id": "148c0b7e",
   "metadata": {},
   "outputs": [
    {
     "data": {
      "text/plain": [
       "<AxesSubplot:xlabel='engine_fuel', ylabel='price_usd'>"
      ]
     },
     "execution_count": 16,
     "metadata": {},
     "output_type": "execute_result"
    },
    {
     "data": {
      "image/png": "[encoded data removed]",
      "text/plain": [
       "<Figure size 432x288 with 1 Axes>"
      ]
     },
     "metadata": {
      "needs_background": "light"
     },
     "output_type": "display_data"
    }
   ],
   "source": [
    "sns.boxplot(x='engine_fuel', y='price_usd', data=df)"
   ]
  },
  {
   "cell_type": "markdown",
   "id": "a9aa3bbe",
   "metadata": {},
   "source": [
    "Los carros electricos están claramente más sesgados hacia un precio más alto"
   ]
  },
  {
   "cell_type": "markdown",
   "id": "53444774",
   "metadata": {},
   "source": [
    "Tambien puedo notar que los hibrios diesel tienen un rango super pequeño, probablemente porque no son tan comunes"
   ]
  },
  {
   "cell_type": "code",
   "execution_count": null,
   "id": "a10e76af",
   "metadata": {},
   "outputs": [],
   "source": []
  },
  {
   "cell_type": "markdown",
   "id": "2982242d",
   "metadata": {},
   "source": []
  },
  {
   "cell_type": "code",
   "execution_count": null,
   "id": "6ad9fd63",
   "metadata": {},
   "outputs": [],
   "source": []
  },
  {
   "cell_type": "code",
   "execution_count": null,
   "id": "c6901521",
   "metadata": {},
   "outputs": [],
   "source": []
  },
  {
   "cell_type": "code",
   "execution_count": null,
   "id": "509ceaa1",
   "metadata": {},
   "outputs": [],
   "source": []
  }
 ],
 "metadata": {
  "kernelspec": {
   "display_name": "data-science",
   "language": "python",
   "name": "data-science"
  },
  "language_info": {
   "codemirror_mode": {
    "name": "ipython",
    "version": 3
   },
   "file_extension": ".py",
   "mimetype": "text/x-python",
   "name": "python",
   "nbconvert_exporter": "python",
   "pygments_lexer": "ipython3",
   "version": "3.9.6"
  }
 },
 "nbformat": 4,
 "nbformat_minor": 5
}
